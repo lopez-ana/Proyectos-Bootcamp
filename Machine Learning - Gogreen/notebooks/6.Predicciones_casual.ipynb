{
 "cells": [
  {
   "cell_type": "code",
   "execution_count": 4,
   "metadata": {},
   "outputs": [],
   "source": [
    "import pandas as pd\n",
    "import numpy as np\n",
    "\n",
    "import sidetable as stb\n",
    "\n",
    "import matplotlib.pyplot as plt\n",
    "import seaborn as sns\n",
    "\n",
    "from scipy.stats import skew\n",
    "from scipy.stats import kurtosistest\n",
    "from scipy import stats\n",
    "\n",
    "import pickle\n",
    "import listas as lst\n",
    "\n",
    "from datetime import datetime"
   ]
  },
  {
   "cell_type": "code",
   "execution_count": 5,
   "metadata": {},
   "outputs": [
    {
     "data": {
      "text/html": [
       "<div>\n",
       "<style scoped>\n",
       "    .dataframe tbody tr th:only-of-type {\n",
       "        vertical-align: middle;\n",
       "    }\n",
       "\n",
       "    .dataframe tbody tr th {\n",
       "        vertical-align: top;\n",
       "    }\n",
       "\n",
       "    .dataframe thead th {\n",
       "        text-align: right;\n",
       "    }\n",
       "</style>\n",
       "<table border=\"1\" class=\"dataframe\">\n",
       "  <thead>\n",
       "    <tr style=\"text-align: right;\">\n",
       "      <th></th>\n",
       "      <th>estacion</th>\n",
       "      <th>año</th>\n",
       "      <th>mes</th>\n",
       "      <th>festivo</th>\n",
       "      <th>dia_sem</th>\n",
       "      <th>laborable</th>\n",
       "      <th>prevision_tiempo</th>\n",
       "      <th>sensacion_termica</th>\n",
       "      <th>humedad</th>\n",
       "      <th>velocidad_viento</th>\n",
       "    </tr>\n",
       "  </thead>\n",
       "  <tbody>\n",
       "    <tr>\n",
       "      <th>715</th>\n",
       "      <td>Otoño</td>\n",
       "      <td>2019</td>\n",
       "      <td>diciembre</td>\n",
       "      <td>0</td>\n",
       "      <td>martes</td>\n",
       "      <td>1</td>\n",
       "      <td>2</td>\n",
       "      <td>20.075</td>\n",
       "      <td>90.7083</td>\n",
       "      <td>6.583306</td>\n",
       "    </tr>\n",
       "  </tbody>\n",
       "</table>\n",
       "</div>"
      ],
      "text/plain": [
       "    estacion   año        mes festivo dia_sem laborable prevision_tiempo  \\\n",
       "715    Otoño  2019  diciembre       0  martes         1                2   \n",
       "\n",
       "     sensacion_termica  humedad  velocidad_viento  \n",
       "715             20.075  90.7083          6.583306  "
      ]
     },
     "execution_count": 5,
     "metadata": {},
     "output_type": "execute_result"
    }
   ],
   "source": [
    "df = pd.read_pickle(\"../data/bikes_predicciones.pkl\")\n",
    "df.sample()"
   ]
  },
  {
   "cell_type": "code",
   "execution_count": 6,
   "metadata": {},
   "outputs": [],
   "source": [
    "with open (\"../data/robust_casual.pkl\", \"rb\") as file:\n",
    "    robust_casual = pickle.load(file) "
   ]
  },
  {
   "cell_type": "code",
   "execution_count": 7,
   "metadata": {},
   "outputs": [],
   "source": [
    "with open (\"../data/dt_casual_pred.pkl\", \"rb\") as file:\n",
    "    dt_casual_pred = pickle.load(file)"
   ]
  },
  {
   "cell_type": "code",
   "execution_count": 8,
   "metadata": {},
   "outputs": [],
   "source": [
    "# creamos un diccionario con datos ficticios:\n",
    "\n",
    "dicc_usuario = {'estacion': 'Verano', 'año': '2019', 'mes': 'septiembre', 'festivo': 0, 'dia_sem': 'domingo', 'laborable': 0,\n",
    "                'prevision_tiempo': 1, 'sensacion_termica': 30.52440, 'humedad': 64.6667, 'velocidad_viento': 19.000061}"
   ]
  },
  {
   "cell_type": "code",
   "execution_count": 9,
   "metadata": {},
   "outputs": [],
   "source": [
    "# creamos df\n",
    "\n",
    "df_usuario = pd.DataFrame(dicc_usuario, index= [0])\n",
    "lista_col = df_usuario.drop(\"festivo\", axis = 1).columns"
   ]
  },
  {
   "cell_type": "code",
   "execution_count": 10,
   "metadata": {},
   "outputs": [],
   "source": [
    "lst.lista_dict_casual\n",
    "\n",
    "for dic, col in zip(lst.lista_dict_casual, lista_col):   \n",
    "    \n",
    "    df_usuario[col] = df_usuario[col].map(dic)"
   ]
  },
  {
   "cell_type": "code",
   "execution_count": 11,
   "metadata": {},
   "outputs": [],
   "source": [
    "reemplazo = {\"estacion\": \"estacion_map\", \"año\": \"año_map\", \"laborable\":\"laborable_map\", \"dia_sem\": \"dia_sem_map\", \"mes\":\"mes_map\", \"prevision_tiempo\":\"prevision_tiempo_map\"}"
   ]
  },
  {
   "cell_type": "code",
   "execution_count": 12,
   "metadata": {},
   "outputs": [],
   "source": [
    "df_usuario.rename(columns=reemplazo, inplace=True)"
   ]
  },
  {
   "cell_type": "code",
   "execution_count": 13,
   "metadata": {},
   "outputs": [
    {
     "data": {
      "text/html": [
       "<div>\n",
       "<style scoped>\n",
       "    .dataframe tbody tr th:only-of-type {\n",
       "        vertical-align: middle;\n",
       "    }\n",
       "\n",
       "    .dataframe tbody tr th {\n",
       "        vertical-align: top;\n",
       "    }\n",
       "\n",
       "    .dataframe thead th {\n",
       "        text-align: right;\n",
       "    }\n",
       "</style>\n",
       "<table border=\"1\" class=\"dataframe\">\n",
       "  <thead>\n",
       "    <tr style=\"text-align: right;\">\n",
       "      <th></th>\n",
       "      <th>estacion_map</th>\n",
       "      <th>año_map</th>\n",
       "      <th>mes_map</th>\n",
       "      <th>festivo</th>\n",
       "      <th>dia_sem_map</th>\n",
       "      <th>laborable_map</th>\n",
       "      <th>prevision_tiempo_map</th>\n",
       "      <th>sensacion_termica</th>\n",
       "      <th>humedad</th>\n",
       "      <th>velocidad_viento</th>\n",
       "    </tr>\n",
       "  </thead>\n",
       "  <tbody>\n",
       "    <tr>\n",
       "      <th>0</th>\n",
       "      <td>1.5</td>\n",
       "      <td>0.5</td>\n",
       "      <td>2.5</td>\n",
       "      <td>0</td>\n",
       "      <td>0.5</td>\n",
       "      <td>1</td>\n",
       "      <td>2.0</td>\n",
       "      <td>30.5244</td>\n",
       "      <td>64.6667</td>\n",
       "      <td>19.000061</td>\n",
       "    </tr>\n",
       "  </tbody>\n",
       "</table>\n",
       "</div>"
      ],
      "text/plain": [
       "   estacion_map  año_map  mes_map  festivo  dia_sem_map  laborable_map  \\\n",
       "0           1.5      0.5      2.5        0          0.5              1   \n",
       "\n",
       "   prevision_tiempo_map  sensacion_termica  humedad  velocidad_viento  \n",
       "0                   2.0            30.5244  64.6667         19.000061  "
      ]
     },
     "execution_count": 13,
     "metadata": {},
     "output_type": "execute_result"
    }
   ],
   "source": [
    "df_usuario"
   ]
  },
  {
   "cell_type": "code",
   "execution_count": 14,
   "metadata": {},
   "outputs": [],
   "source": [
    "df_usuario = df_usuario.reindex(columns=['sensacion_termica', 'humedad', 'velocidad_viento', 'estacion_map',\n",
    "       'año_map', 'mes_map', 'dia_sem_map', 'laborable_map',\n",
    "       'prevision_tiempo_map', 'festivo'])"
   ]
  },
  {
   "cell_type": "code",
   "execution_count": 15,
   "metadata": {},
   "outputs": [
    {
     "data": {
      "text/html": [
       "<div>\n",
       "<style scoped>\n",
       "    .dataframe tbody tr th:only-of-type {\n",
       "        vertical-align: middle;\n",
       "    }\n",
       "\n",
       "    .dataframe tbody tr th {\n",
       "        vertical-align: top;\n",
       "    }\n",
       "\n",
       "    .dataframe thead th {\n",
       "        text-align: right;\n",
       "    }\n",
       "</style>\n",
       "<table border=\"1\" class=\"dataframe\">\n",
       "  <thead>\n",
       "    <tr style=\"text-align: right;\">\n",
       "      <th></th>\n",
       "      <th>sensacion_termica</th>\n",
       "      <th>humedad</th>\n",
       "      <th>velocidad_viento</th>\n",
       "      <th>estacion_map</th>\n",
       "      <th>año_map</th>\n",
       "      <th>mes_map</th>\n",
       "      <th>dia_sem_map</th>\n",
       "      <th>laborable_map</th>\n",
       "      <th>prevision_tiempo_map</th>\n",
       "      <th>festivo</th>\n",
       "    </tr>\n",
       "  </thead>\n",
       "  <tbody>\n",
       "    <tr>\n",
       "      <th>0</th>\n",
       "      <td>30.5244</td>\n",
       "      <td>64.6667</td>\n",
       "      <td>19.000061</td>\n",
       "      <td>1.5</td>\n",
       "      <td>0.5</td>\n",
       "      <td>2.5</td>\n",
       "      <td>0.5</td>\n",
       "      <td>1</td>\n",
       "      <td>2.0</td>\n",
       "      <td>0</td>\n",
       "    </tr>\n",
       "  </tbody>\n",
       "</table>\n",
       "</div>"
      ],
      "text/plain": [
       "   sensacion_termica  humedad  velocidad_viento  estacion_map  año_map  \\\n",
       "0            30.5244  64.6667         19.000061           1.5      0.5   \n",
       "\n",
       "   mes_map  dia_sem_map  laborable_map  prevision_tiempo_map  festivo  \n",
       "0      2.5          0.5              1                   2.0        0  "
      ]
     },
     "execution_count": 15,
     "metadata": {},
     "output_type": "execute_result"
    }
   ],
   "source": [
    "df_usuario"
   ]
  },
  {
   "cell_type": "code",
   "execution_count": 16,
   "metadata": {},
   "outputs": [],
   "source": [
    "df_num = df_usuario[[\"sensacion_termica\", \"humedad\", \"velocidad_viento\"]]"
   ]
  },
  {
   "cell_type": "code",
   "execution_count": 17,
   "metadata": {},
   "outputs": [
    {
     "data": {
      "text/html": [
       "<div>\n",
       "<style scoped>\n",
       "    .dataframe tbody tr th:only-of-type {\n",
       "        vertical-align: middle;\n",
       "    }\n",
       "\n",
       "    .dataframe tbody tr th {\n",
       "        vertical-align: top;\n",
       "    }\n",
       "\n",
       "    .dataframe thead th {\n",
       "        text-align: right;\n",
       "    }\n",
       "</style>\n",
       "<table border=\"1\" class=\"dataframe\">\n",
       "  <thead>\n",
       "    <tr style=\"text-align: right;\">\n",
       "      <th></th>\n",
       "      <th>sensacion_termica</th>\n",
       "      <th>humedad</th>\n",
       "      <th>velocidad_viento</th>\n",
       "    </tr>\n",
       "  </thead>\n",
       "  <tbody>\n",
       "    <tr>\n",
       "      <th>0</th>\n",
       "      <td>30.5244</td>\n",
       "      <td>64.6667</td>\n",
       "      <td>19.000061</td>\n",
       "    </tr>\n",
       "  </tbody>\n",
       "</table>\n",
       "</div>"
      ],
      "text/plain": [
       "   sensacion_termica  humedad  velocidad_viento\n",
       "0            30.5244  64.6667         19.000061"
      ]
     },
     "execution_count": 17,
     "metadata": {},
     "output_type": "execute_result"
    }
   ],
   "source": [
    "df_num"
   ]
  },
  {
   "cell_type": "code",
   "execution_count": 18,
   "metadata": {},
   "outputs": [
    {
     "data": {
      "text/plain": [
       "array([[0.45412707, 0.09651821, 1.04416759]])"
      ]
     },
     "execution_count": 18,
     "metadata": {},
     "output_type": "execute_result"
    }
   ],
   "source": [
    "robust_casual.transform(df_num)"
   ]
  },
  {
   "cell_type": "code",
   "execution_count": 19,
   "metadata": {},
   "outputs": [
    {
     "data": {
      "text/plain": [
       "array([2201.83333333])"
      ]
     },
     "execution_count": 19,
     "metadata": {},
     "output_type": "execute_result"
    }
   ],
   "source": [
    "dt_casual_pred.predict(df_usuario)"
   ]
  },
  {
   "cell_type": "markdown",
   "metadata": {},
   "source": [
    "Comprobado con el dataFrame original, se alcanzaron 2512 alquileres casuales. Nuestra predicción calcula 2201 alquiler.\n",
    "Hay una diferencia de 311 bicis. El modelo tenía un margen de error de 303"
   ]
  },
  {
   "cell_type": "code",
   "execution_count": 22,
   "metadata": {},
   "outputs": [],
   "source": [
    "df = pd.read_pickle(\"../data/outliers_gestion.pkl\")"
   ]
  },
  {
   "cell_type": "code",
   "execution_count": 24,
   "metadata": {},
   "outputs": [
    {
     "data": {
      "text/html": [
       "<div>\n",
       "<style scoped>\n",
       "    .dataframe tbody tr th:only-of-type {\n",
       "        vertical-align: middle;\n",
       "    }\n",
       "\n",
       "    .dataframe tbody tr th {\n",
       "        vertical-align: top;\n",
       "    }\n",
       "\n",
       "    .dataframe thead th {\n",
       "        text-align: right;\n",
       "    }\n",
       "</style>\n",
       "<table border=\"1\" class=\"dataframe\">\n",
       "  <thead>\n",
       "    <tr style=\"text-align: right;\">\n",
       "      <th></th>\n",
       "      <th>fecha</th>\n",
       "      <th>estacion</th>\n",
       "      <th>año</th>\n",
       "      <th>mes</th>\n",
       "      <th>festivo</th>\n",
       "      <th>dia_sem</th>\n",
       "      <th>laborable</th>\n",
       "      <th>prevision_tiempo</th>\n",
       "      <th>sensacion_termica</th>\n",
       "      <th>humedad</th>\n",
       "      <th>velocidad_viento</th>\n",
       "      <th>alquiler_casual</th>\n",
       "      <th>alquiler_registrado</th>\n",
       "      <th>total_alquileres</th>\n",
       "    </tr>\n",
       "  </thead>\n",
       "  <tbody>\n",
       "    <tr>\n",
       "      <th>629</th>\n",
       "      <td>2019-09-22</td>\n",
       "      <td>Verano</td>\n",
       "      <td>2019</td>\n",
       "      <td>septiembre</td>\n",
       "      <td>0</td>\n",
       "      <td>domingo</td>\n",
       "      <td>0</td>\n",
       "      <td>1</td>\n",
       "      <td>30.5244</td>\n",
       "      <td>64.6667</td>\n",
       "      <td>19.000061</td>\n",
       "      <td>2512</td>\n",
       "      <td>5883</td>\n",
       "      <td>8395</td>\n",
       "    </tr>\n",
       "  </tbody>\n",
       "</table>\n",
       "</div>"
      ],
      "text/plain": [
       "         fecha estacion   año         mes festivo  dia_sem laborable  \\\n",
       "629 2019-09-22   Verano  2019  septiembre       0  domingo         0   \n",
       "\n",
       "    prevision_tiempo  sensacion_termica  humedad  velocidad_viento  \\\n",
       "629                1            30.5244  64.6667         19.000061   \n",
       "\n",
       "     alquiler_casual  alquiler_registrado  total_alquileres  \n",
       "629             2512                 5883              8395  "
      ]
     },
     "execution_count": 24,
     "metadata": {},
     "output_type": "execute_result"
    }
   ],
   "source": [
    "df[df[\"sensacion_termica\"] == 30.52440]"
   ]
  }
 ],
 "metadata": {
  "kernelspec": {
   "display_name": "base",
   "language": "python",
   "name": "python3"
  },
  "language_info": {
   "codemirror_mode": {
    "name": "ipython",
    "version": 3
   },
   "file_extension": ".py",
   "mimetype": "text/x-python",
   "name": "python",
   "nbconvert_exporter": "python",
   "pygments_lexer": "ipython3",
   "version": "3.11.5"
  },
  "orig_nbformat": 4
 },
 "nbformat": 4,
 "nbformat_minor": 2
}
