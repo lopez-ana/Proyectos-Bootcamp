{
 "cells": [
  {
   "cell_type": "code",
   "execution_count": 1,
   "metadata": {},
   "outputs": [],
   "source": [
    "import pandas as pd\n",
    "import numpy as np\n",
    "\n",
    "import sidetable as stb\n",
    "\n",
    "import matplotlib.pyplot as plt\n",
    "import seaborn as sns\n",
    "\n",
    "from scipy.stats import skew\n",
    "from scipy.stats import kurtosistest\n",
    "from scipy import stats\n",
    "from sklearn.preprocessing import OneHotEncoder\n",
    "\n",
    "\n",
    "import pickle\n",
    "import listas as lst\n",
    "\n",
    "from datetime import datetime"
   ]
  },
  {
   "cell_type": "code",
   "execution_count": 2,
   "metadata": {},
   "outputs": [
    {
     "data": {
      "text/html": [
       "<div>\n",
       "<style scoped>\n",
       "    .dataframe tbody tr th:only-of-type {\n",
       "        vertical-align: middle;\n",
       "    }\n",
       "\n",
       "    .dataframe tbody tr th {\n",
       "        vertical-align: top;\n",
       "    }\n",
       "\n",
       "    .dataframe thead th {\n",
       "        text-align: right;\n",
       "    }\n",
       "</style>\n",
       "<table border=\"1\" class=\"dataframe\">\n",
       "  <thead>\n",
       "    <tr style=\"text-align: right;\">\n",
       "      <th></th>\n",
       "      <th>estacion</th>\n",
       "      <th>año</th>\n",
       "      <th>mes</th>\n",
       "      <th>festivo</th>\n",
       "      <th>dia_sem</th>\n",
       "      <th>laborable</th>\n",
       "      <th>prevision_tiempo</th>\n",
       "      <th>sensacion_termica</th>\n",
       "      <th>humedad</th>\n",
       "      <th>velocidad_viento</th>\n",
       "    </tr>\n",
       "  </thead>\n",
       "  <tbody>\n",
       "    <tr>\n",
       "      <th>641</th>\n",
       "      <td>Otoño</td>\n",
       "      <td>2019</td>\n",
       "      <td>octubre</td>\n",
       "      <td>0</td>\n",
       "      <td>viernes</td>\n",
       "      <td>1</td>\n",
       "      <td>2</td>\n",
       "      <td>30.39875</td>\n",
       "      <td>72.2917</td>\n",
       "      <td>7.875582</td>\n",
       "    </tr>\n",
       "  </tbody>\n",
       "</table>\n",
       "</div>"
      ],
      "text/plain": [
       "    estacion   año      mes festivo  dia_sem laborable prevision_tiempo  \\\n",
       "641    Otoño  2019  octubre       0  viernes         1                2   \n",
       "\n",
       "     sensacion_termica  humedad  velocidad_viento  \n",
       "641           30.39875  72.2917          7.875582  "
      ]
     },
     "execution_count": 2,
     "metadata": {},
     "output_type": "execute_result"
    }
   ],
   "source": [
    "df = pd.read_pickle(\"../data/bikes_predicciones.pkl\")\n",
    "df.sample()"
   ]
  },
  {
   "cell_type": "code",
   "execution_count": 3,
   "metadata": {},
   "outputs": [],
   "source": [
    "with open (\"../data/robust_total.pkl\", \"rb\") as file:\n",
    "    robust_total = pickle.load(file) "
   ]
  },
  {
   "cell_type": "code",
   "execution_count": 4,
   "metadata": {},
   "outputs": [],
   "source": [
    "with open (\"../data/dt_total_pred.pkl\", \"rb\") as file:\n",
    "    dt_total_pred = pickle.load(file)"
   ]
  },
  {
   "cell_type": "code",
   "execution_count": 5,
   "metadata": {},
   "outputs": [],
   "source": [
    "# creamos un diccionario con datos ficticios:\n",
    "\n",
    "dicc_usuario_total = {'estacion': 'Verano', 'año': '2019', 'mes': 'septiembre', 'festivo': 0, 'dia_sem': 'domingo', 'laborable': 0,\n",
    "                'prevision_tiempo': 1, 'sensacion_termica': 30.52440, 'humedad': 64.6667, 'velocidad_viento': 19.000061}"
   ]
  },
  {
   "cell_type": "code",
   "execution_count": 6,
   "metadata": {},
   "outputs": [],
   "source": [
    "# creamos df\n",
    "\n",
    "df_usuario_total = pd.DataFrame(dicc_usuario_total, index= [0])\n",
    "df_cat_total = df_usuario_total.drop(columns=[\"laborable\", \"dia_sem\"], axis = 1)"
   ]
  },
  {
   "cell_type": "code",
   "execution_count": 7,
   "metadata": {},
   "outputs": [],
   "source": [
    "for dic, col in zip(lst.lista_dict_total, df_cat_total.columns):   \n",
    "    \n",
    "    df_usuario_total[col] = df_usuario_total[col].map(dic)"
   ]
  },
  {
   "cell_type": "code",
   "execution_count": 8,
   "metadata": {},
   "outputs": [
    {
     "data": {
      "text/html": [
       "<div>\n",
       "<style scoped>\n",
       "    .dataframe tbody tr th:only-of-type {\n",
       "        vertical-align: middle;\n",
       "    }\n",
       "\n",
       "    .dataframe tbody tr th {\n",
       "        vertical-align: top;\n",
       "    }\n",
       "\n",
       "    .dataframe thead th {\n",
       "        text-align: right;\n",
       "    }\n",
       "</style>\n",
       "<table border=\"1\" class=\"dataframe\">\n",
       "  <thead>\n",
       "    <tr style=\"text-align: right;\">\n",
       "      <th></th>\n",
       "      <th>estacion</th>\n",
       "      <th>año</th>\n",
       "      <th>mes</th>\n",
       "      <th>festivo</th>\n",
       "      <th>dia_sem</th>\n",
       "      <th>laborable</th>\n",
       "      <th>prevision_tiempo</th>\n",
       "      <th>sensacion_termica</th>\n",
       "      <th>humedad</th>\n",
       "      <th>velocidad_viento</th>\n",
       "    </tr>\n",
       "  </thead>\n",
       "  <tbody>\n",
       "    <tr>\n",
       "      <th>0</th>\n",
       "      <td>2.5</td>\n",
       "      <td>1.5</td>\n",
       "      <td>2.6</td>\n",
       "      <td>NaN</td>\n",
       "      <td>domingo</td>\n",
       "      <td>0</td>\n",
       "      <td>2.0</td>\n",
       "      <td>30.5244</td>\n",
       "      <td>64.6667</td>\n",
       "      <td>19.000061</td>\n",
       "    </tr>\n",
       "  </tbody>\n",
       "</table>\n",
       "</div>"
      ],
      "text/plain": [
       "   estacion  año  mes  festivo  dia_sem  laborable  prevision_tiempo  \\\n",
       "0       2.5  1.5  2.6      NaN  domingo          0               2.0   \n",
       "\n",
       "   sensacion_termica  humedad  velocidad_viento  \n",
       "0            30.5244  64.6667         19.000061  "
      ]
     },
     "execution_count": 8,
     "metadata": {},
     "output_type": "execute_result"
    }
   ],
   "source": [
    "df_usuario_total"
   ]
  },
  {
   "cell_type": "code",
   "execution_count": 9,
   "metadata": {},
   "outputs": [],
   "source": [
    "def one_hot_encoder_one(df,columna,keep_first=True):\n",
    "    \n",
    "    oh = OneHotEncoder()\n",
    "\n",
    "    transformados = oh.fit_transform(df[[columna]])\n",
    " \n",
    "    oh_df = pd.DataFrame(transformados.toarray())\n",
    "\n",
    "    oh_df.columns = oh.get_feature_names_out()\n",
    "    return oh_df"
   ]
  },
  {
   "cell_type": "code",
   "execution_count": 10,
   "metadata": {},
   "outputs": [],
   "source": [
    "df_one_hot = one_hot_encoder_one(df_usuario_total, \"dia_sem\")"
   ]
  },
  {
   "cell_type": "code",
   "execution_count": 11,
   "metadata": {},
   "outputs": [
    {
     "data": {
      "text/html": [
       "<div>\n",
       "<style scoped>\n",
       "    .dataframe tbody tr th:only-of-type {\n",
       "        vertical-align: middle;\n",
       "    }\n",
       "\n",
       "    .dataframe tbody tr th {\n",
       "        vertical-align: top;\n",
       "    }\n",
       "\n",
       "    .dataframe thead th {\n",
       "        text-align: right;\n",
       "    }\n",
       "</style>\n",
       "<table border=\"1\" class=\"dataframe\">\n",
       "  <thead>\n",
       "    <tr style=\"text-align: right;\">\n",
       "      <th></th>\n",
       "      <th>dia_sem_domingo</th>\n",
       "    </tr>\n",
       "  </thead>\n",
       "  <tbody>\n",
       "    <tr>\n",
       "      <th>0</th>\n",
       "      <td>1.0</td>\n",
       "    </tr>\n",
       "  </tbody>\n",
       "</table>\n",
       "</div>"
      ],
      "text/plain": [
       "   dia_sem_domingo\n",
       "0              1.0"
      ]
     },
     "execution_count": 11,
     "metadata": {},
     "output_type": "execute_result"
    }
   ],
   "source": [
    "df_one_hot"
   ]
  },
  {
   "cell_type": "code",
   "execution_count": 12,
   "metadata": {},
   "outputs": [],
   "source": [
    "df_usuario_total= df_usuario_total.drop(columns=[\"dia_sem\"], axis= 1)"
   ]
  },
  {
   "cell_type": "code",
   "execution_count": 13,
   "metadata": {},
   "outputs": [],
   "source": [
    "df_usuario_total = pd.concat([df_usuario_total, df_one_hot], axis= 1)"
   ]
  },
  {
   "cell_type": "code",
   "execution_count": 14,
   "metadata": {},
   "outputs": [
    {
     "data": {
      "text/html": [
       "<div>\n",
       "<style scoped>\n",
       "    .dataframe tbody tr th:only-of-type {\n",
       "        vertical-align: middle;\n",
       "    }\n",
       "\n",
       "    .dataframe tbody tr th {\n",
       "        vertical-align: top;\n",
       "    }\n",
       "\n",
       "    .dataframe thead th {\n",
       "        text-align: right;\n",
       "    }\n",
       "</style>\n",
       "<table border=\"1\" class=\"dataframe\">\n",
       "  <thead>\n",
       "    <tr style=\"text-align: right;\">\n",
       "      <th></th>\n",
       "      <th>estacion</th>\n",
       "      <th>año</th>\n",
       "      <th>mes</th>\n",
       "      <th>festivo</th>\n",
       "      <th>laborable</th>\n",
       "      <th>prevision_tiempo</th>\n",
       "      <th>sensacion_termica</th>\n",
       "      <th>humedad</th>\n",
       "      <th>velocidad_viento</th>\n",
       "      <th>dia_sem_domingo</th>\n",
       "    </tr>\n",
       "  </thead>\n",
       "  <tbody>\n",
       "    <tr>\n",
       "      <th>0</th>\n",
       "      <td>2.5</td>\n",
       "      <td>1.5</td>\n",
       "      <td>2.6</td>\n",
       "      <td>NaN</td>\n",
       "      <td>0</td>\n",
       "      <td>2.0</td>\n",
       "      <td>30.5244</td>\n",
       "      <td>64.6667</td>\n",
       "      <td>19.000061</td>\n",
       "      <td>1.0</td>\n",
       "    </tr>\n",
       "  </tbody>\n",
       "</table>\n",
       "</div>"
      ],
      "text/plain": [
       "   estacion  año  mes  festivo  laborable  prevision_tiempo  \\\n",
       "0       2.5  1.5  2.6      NaN          0               2.0   \n",
       "\n",
       "   sensacion_termica  humedad  velocidad_viento  dia_sem_domingo  \n",
       "0            30.5244  64.6667         19.000061              1.0  "
      ]
     },
     "execution_count": 14,
     "metadata": {},
     "output_type": "execute_result"
    }
   ],
   "source": [
    "df_usuario_total"
   ]
  },
  {
   "cell_type": "code",
   "execution_count": 15,
   "metadata": {},
   "outputs": [],
   "source": [
    "df_usuario_total[\"festivo_map\"] = df[\"festivo\"]"
   ]
  },
  {
   "cell_type": "code",
   "execution_count": 16,
   "metadata": {},
   "outputs": [],
   "source": [
    "reemplazo = {\"estacion\": \"estacion_map\", \"año\": \"año_map\", \"mes\":\"mes_map\", \"dia_sem_domingo\": \"dia_sem_domingo\", \"laborable\":\"laborable\", \"prevision_tiempo\":\"prevision_tiempo_map\"}"
   ]
  },
  {
   "cell_type": "code",
   "execution_count": 17,
   "metadata": {},
   "outputs": [],
   "source": [
    "df_usuario_total.rename(columns=reemplazo, inplace=True)"
   ]
  },
  {
   "cell_type": "code",
   "execution_count": 20,
   "metadata": {},
   "outputs": [],
   "source": [
    "dicc_ceros = {\"dia_sem_jueves\":0,\"dia_sem_lunes\":0,\"dia_sem_martes\":0, \"dia_sem_miercoles\":0,\"dia_sem_sabado\": 0,\"dia_sem_viernes\":0}"
   ]
  },
  {
   "cell_type": "code",
   "execution_count": 21,
   "metadata": {},
   "outputs": [],
   "source": [
    "df_ceros = pd.DataFrame(dicc_ceros, index= [0])\n",
    "df_usuario_predicc = pd.concat([df_usuario_total, df_ceros], axis= 1)"
   ]
  },
  {
   "cell_type": "code",
   "execution_count": 29,
   "metadata": {},
   "outputs": [],
   "source": [
    "df_usuario_predicc = df_usuario_predicc.reindex(columns=['sensacion_termica', 'humedad', 'velocidad_viento', 'estacion_map',\n",
    "       'año_map', 'mes_map','festivo_map','prevision_tiempo_map', 'dia_sem_domingo', 'dia_sem_jueves', 'dia_sem_lunes', 'dia_sem_martes','dia_sem_miercoles', 'dia_sem_sabado',\t'dia_sem_viernes', 'laborable'])"
   ]
  },
  {
   "cell_type": "code",
   "execution_count": 30,
   "metadata": {},
   "outputs": [
    {
     "data": {
      "text/html": [
       "<div>\n",
       "<style scoped>\n",
       "    .dataframe tbody tr th:only-of-type {\n",
       "        vertical-align: middle;\n",
       "    }\n",
       "\n",
       "    .dataframe tbody tr th {\n",
       "        vertical-align: top;\n",
       "    }\n",
       "\n",
       "    .dataframe thead th {\n",
       "        text-align: right;\n",
       "    }\n",
       "</style>\n",
       "<table border=\"1\" class=\"dataframe\">\n",
       "  <thead>\n",
       "    <tr style=\"text-align: right;\">\n",
       "      <th></th>\n",
       "      <th>sensacion_termica</th>\n",
       "      <th>humedad</th>\n",
       "      <th>velocidad_viento</th>\n",
       "      <th>estacion_map</th>\n",
       "      <th>año_map</th>\n",
       "      <th>mes_map</th>\n",
       "      <th>festivo_map</th>\n",
       "      <th>prevision_tiempo_map</th>\n",
       "      <th>dia_sem_domingo</th>\n",
       "      <th>dia_sem_jueves</th>\n",
       "      <th>dia_sem_lunes</th>\n",
       "      <th>dia_sem_martes</th>\n",
       "      <th>dia_sem_miercoles</th>\n",
       "      <th>dia_sem_sabado</th>\n",
       "      <th>dia_sem_viernes</th>\n",
       "      <th>laborable</th>\n",
       "    </tr>\n",
       "  </thead>\n",
       "  <tbody>\n",
       "    <tr>\n",
       "      <th>0</th>\n",
       "      <td>30.5244</td>\n",
       "      <td>64.6667</td>\n",
       "      <td>19.000061</td>\n",
       "      <td>2.5</td>\n",
       "      <td>1.5</td>\n",
       "      <td>2.6</td>\n",
       "      <td>0</td>\n",
       "      <td>2.0</td>\n",
       "      <td>1.0</td>\n",
       "      <td>0</td>\n",
       "      <td>0</td>\n",
       "      <td>0</td>\n",
       "      <td>0</td>\n",
       "      <td>0</td>\n",
       "      <td>0</td>\n",
       "      <td>0</td>\n",
       "    </tr>\n",
       "  </tbody>\n",
       "</table>\n",
       "</div>"
      ],
      "text/plain": [
       "   sensacion_termica  humedad  velocidad_viento  estacion_map  año_map  \\\n",
       "0            30.5244  64.6667         19.000061           2.5      1.5   \n",
       "\n",
       "   mes_map festivo_map  prevision_tiempo_map  dia_sem_domingo  dia_sem_jueves  \\\n",
       "0      2.6           0                   2.0              1.0               0   \n",
       "\n",
       "   dia_sem_lunes  dia_sem_martes  dia_sem_miercoles  dia_sem_sabado  \\\n",
       "0              0               0                  0               0   \n",
       "\n",
       "   dia_sem_viernes  laborable  \n",
       "0                0          0  "
      ]
     },
     "execution_count": 30,
     "metadata": {},
     "output_type": "execute_result"
    }
   ],
   "source": [
    "df_usuario_predicc"
   ]
  },
  {
   "cell_type": "code",
   "execution_count": 31,
   "metadata": {},
   "outputs": [],
   "source": [
    "df_num = df_usuario_predicc[[\"sensacion_termica\", \"humedad\", \"velocidad_viento\"]]"
   ]
  },
  {
   "cell_type": "code",
   "execution_count": 32,
   "metadata": {},
   "outputs": [
    {
     "data": {
      "text/html": [
       "<div>\n",
       "<style scoped>\n",
       "    .dataframe tbody tr th:only-of-type {\n",
       "        vertical-align: middle;\n",
       "    }\n",
       "\n",
       "    .dataframe tbody tr th {\n",
       "        vertical-align: top;\n",
       "    }\n",
       "\n",
       "    .dataframe thead th {\n",
       "        text-align: right;\n",
       "    }\n",
       "</style>\n",
       "<table border=\"1\" class=\"dataframe\">\n",
       "  <thead>\n",
       "    <tr style=\"text-align: right;\">\n",
       "      <th></th>\n",
       "      <th>sensacion_termica</th>\n",
       "      <th>humedad</th>\n",
       "      <th>velocidad_viento</th>\n",
       "    </tr>\n",
       "  </thead>\n",
       "  <tbody>\n",
       "    <tr>\n",
       "      <th>0</th>\n",
       "      <td>30.5244</td>\n",
       "      <td>64.6667</td>\n",
       "      <td>19.000061</td>\n",
       "    </tr>\n",
       "  </tbody>\n",
       "</table>\n",
       "</div>"
      ],
      "text/plain": [
       "   sensacion_termica  humedad  velocidad_viento\n",
       "0            30.5244  64.6667         19.000061"
      ]
     },
     "execution_count": 32,
     "metadata": {},
     "output_type": "execute_result"
    }
   ],
   "source": [
    "df_num"
   ]
  },
  {
   "cell_type": "code",
   "execution_count": 33,
   "metadata": {},
   "outputs": [
    {
     "data": {
      "text/plain": [
       "array([[0.45412707, 0.09651821, 1.04416759]])"
      ]
     },
     "execution_count": 33,
     "metadata": {},
     "output_type": "execute_result"
    }
   ],
   "source": [
    "robust_total.transform(df_num)"
   ]
  },
  {
   "cell_type": "code",
   "execution_count": 34,
   "metadata": {},
   "outputs": [
    {
     "data": {
      "text/plain": [
       "array([6730.58823529])"
      ]
     },
     "execution_count": 34,
     "metadata": {},
     "output_type": "execute_result"
    }
   ],
   "source": [
    "dt_total_pred.predict(df_usuario_predicc)"
   ]
  },
  {
   "cell_type": "markdown",
   "metadata": {},
   "source": [
    "Comprobado con el dataFrame original, se alcanzaron 8395 alquileres totales. Nuestra predicción calcula 6731 alquiler.\n",
    "Hay una diferencia de 1664 bicis. El modelo tenía un margen de error de 813"
   ]
  },
  {
   "cell_type": "code",
   "execution_count": 37,
   "metadata": {},
   "outputs": [
    {
     "data": {
      "text/plain": [
       "1664"
      ]
     },
     "execution_count": 37,
     "metadata": {},
     "output_type": "execute_result"
    }
   ],
   "source": [
    "8395-6731"
   ]
  },
  {
   "cell_type": "code",
   "execution_count": 35,
   "metadata": {},
   "outputs": [],
   "source": [
    "df = pd.read_pickle(\"../data/outliers_gestion.pkl\")"
   ]
  },
  {
   "cell_type": "code",
   "execution_count": 36,
   "metadata": {},
   "outputs": [
    {
     "data": {
      "text/html": [
       "<div>\n",
       "<style scoped>\n",
       "    .dataframe tbody tr th:only-of-type {\n",
       "        vertical-align: middle;\n",
       "    }\n",
       "\n",
       "    .dataframe tbody tr th {\n",
       "        vertical-align: top;\n",
       "    }\n",
       "\n",
       "    .dataframe thead th {\n",
       "        text-align: right;\n",
       "    }\n",
       "</style>\n",
       "<table border=\"1\" class=\"dataframe\">\n",
       "  <thead>\n",
       "    <tr style=\"text-align: right;\">\n",
       "      <th></th>\n",
       "      <th>fecha</th>\n",
       "      <th>estacion</th>\n",
       "      <th>año</th>\n",
       "      <th>mes</th>\n",
       "      <th>festivo</th>\n",
       "      <th>dia_sem</th>\n",
       "      <th>laborable</th>\n",
       "      <th>prevision_tiempo</th>\n",
       "      <th>sensacion_termica</th>\n",
       "      <th>humedad</th>\n",
       "      <th>velocidad_viento</th>\n",
       "      <th>alquiler_casual</th>\n",
       "      <th>alquiler_registrado</th>\n",
       "      <th>total_alquileres</th>\n",
       "    </tr>\n",
       "  </thead>\n",
       "  <tbody>\n",
       "    <tr>\n",
       "      <th>629</th>\n",
       "      <td>2019-09-22</td>\n",
       "      <td>Verano</td>\n",
       "      <td>2019</td>\n",
       "      <td>septiembre</td>\n",
       "      <td>0</td>\n",
       "      <td>domingo</td>\n",
       "      <td>0</td>\n",
       "      <td>1</td>\n",
       "      <td>30.5244</td>\n",
       "      <td>64.6667</td>\n",
       "      <td>19.000061</td>\n",
       "      <td>2512</td>\n",
       "      <td>5883</td>\n",
       "      <td>8395</td>\n",
       "    </tr>\n",
       "  </tbody>\n",
       "</table>\n",
       "</div>"
      ],
      "text/plain": [
       "         fecha estacion   año         mes festivo  dia_sem laborable  \\\n",
       "629 2019-09-22   Verano  2019  septiembre       0  domingo         0   \n",
       "\n",
       "    prevision_tiempo  sensacion_termica  humedad  velocidad_viento  \\\n",
       "629                1            30.5244  64.6667         19.000061   \n",
       "\n",
       "     alquiler_casual  alquiler_registrado  total_alquileres  \n",
       "629             2512                 5883              8395  "
      ]
     },
     "execution_count": 36,
     "metadata": {},
     "output_type": "execute_result"
    }
   ],
   "source": [
    "df[df[\"sensacion_termica\"] == 30.52440]"
   ]
  }
 ],
 "metadata": {
  "kernelspec": {
   "display_name": "base",
   "language": "python",
   "name": "python3"
  },
  "language_info": {
   "codemirror_mode": {
    "name": "ipython",
    "version": 3
   },
   "file_extension": ".py",
   "mimetype": "text/x-python",
   "name": "python",
   "nbconvert_exporter": "python",
   "pygments_lexer": "ipython3",
   "version": "3.11.5"
  },
  "orig_nbformat": 4
 },
 "nbformat": 4,
 "nbformat_minor": 2
}
