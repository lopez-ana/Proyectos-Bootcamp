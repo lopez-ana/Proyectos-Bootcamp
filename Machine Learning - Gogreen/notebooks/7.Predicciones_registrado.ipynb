{
 "cells": [
  {
   "cell_type": "code",
   "execution_count": 1,
   "metadata": {},
   "outputs": [],
   "source": [
    "import pandas as pd\n",
    "import numpy as np\n",
    "\n",
    "import sidetable as stb\n",
    "\n",
    "import matplotlib.pyplot as plt\n",
    "import seaborn as sns\n",
    "\n",
    "from scipy.stats import skew\n",
    "from scipy.stats import kurtosistest\n",
    "from scipy import stats\n",
    "\n",
    "import pickle\n",
    "import listas as lst\n",
    "\n",
    "from datetime import datetime"
   ]
  },
  {
   "cell_type": "code",
   "execution_count": 2,
   "metadata": {},
   "outputs": [
    {
     "data": {
      "text/html": [
       "<div>\n",
       "<style scoped>\n",
       "    .dataframe tbody tr th:only-of-type {\n",
       "        vertical-align: middle;\n",
       "    }\n",
       "\n",
       "    .dataframe tbody tr th {\n",
       "        vertical-align: top;\n",
       "    }\n",
       "\n",
       "    .dataframe thead th {\n",
       "        text-align: right;\n",
       "    }\n",
       "</style>\n",
       "<table border=\"1\" class=\"dataframe\">\n",
       "  <thead>\n",
       "    <tr style=\"text-align: right;\">\n",
       "      <th></th>\n",
       "      <th>estacion</th>\n",
       "      <th>año</th>\n",
       "      <th>mes</th>\n",
       "      <th>festivo</th>\n",
       "      <th>dia_sem</th>\n",
       "      <th>laborable</th>\n",
       "      <th>prevision_tiempo</th>\n",
       "      <th>sensacion_termica</th>\n",
       "      <th>humedad</th>\n",
       "      <th>velocidad_viento</th>\n",
       "    </tr>\n",
       "  </thead>\n",
       "  <tbody>\n",
       "    <tr>\n",
       "      <th>698</th>\n",
       "      <td>Otoño</td>\n",
       "      <td>2019</td>\n",
       "      <td>noviembre</td>\n",
       "      <td>0</td>\n",
       "      <td>sabado</td>\n",
       "      <td>1</td>\n",
       "      <td>1</td>\n",
       "      <td>16.19335</td>\n",
       "      <td>64.9583</td>\n",
       "      <td>3.917544</td>\n",
       "    </tr>\n",
       "  </tbody>\n",
       "</table>\n",
       "</div>"
      ],
      "text/plain": [
       "    estacion   año        mes festivo dia_sem laborable prevision_tiempo  \\\n",
       "698    Otoño  2019  noviembre       0  sabado         1                1   \n",
       "\n",
       "     sensacion_termica  humedad  velocidad_viento  \n",
       "698           16.19335  64.9583          3.917544  "
      ]
     },
     "execution_count": 2,
     "metadata": {},
     "output_type": "execute_result"
    }
   ],
   "source": [
    "df = pd.read_pickle(\"../data/bikes_predicciones_reg.pkl\")\n",
    "df.sample()"
   ]
  },
  {
   "cell_type": "code",
   "execution_count": 3,
   "metadata": {},
   "outputs": [],
   "source": [
    "with open (\"../data/robust_registrado.pkl\", \"rb\") as file:\n",
    "    robust_registrado = pickle.load(file) "
   ]
  },
  {
   "cell_type": "code",
   "execution_count": 4,
   "metadata": {},
   "outputs": [],
   "source": [
    "with open (\"../data/dt_registrado_pred.pkl\", \"rb\") as modelo_registrado:\n",
    "    dt_registrado_pred = pickle.load(modelo_registrado)"
   ]
  },
  {
   "cell_type": "code",
   "execution_count": 5,
   "metadata": {},
   "outputs": [],
   "source": [
    "# creamos un diccionario con datos ficticios:\n",
    "\n",
    "dicc_usuario_reg = {'estacion': 'Verano', 'año': '2019', 'mes': 'septiembre', 'festivo': 0, 'dia_sem': 'domingo', 'laborable': 0,\n",
    "                'prevision_tiempo': 1, 'sensacion_termica': 30.52440, 'humedad': 64.6667, 'velocidad_viento': 19.000061}"
   ]
  },
  {
   "cell_type": "code",
   "execution_count": 6,
   "metadata": {},
   "outputs": [],
   "source": [
    "# creamos df\n",
    "\n",
    "df_usuario_reg = pd.DataFrame(dicc_usuario_reg, index= [0])\n"
   ]
  },
  {
   "cell_type": "code",
   "execution_count": 7,
   "metadata": {},
   "outputs": [
    {
     "data": {
      "text/html": [
       "<div>\n",
       "<style scoped>\n",
       "    .dataframe tbody tr th:only-of-type {\n",
       "        vertical-align: middle;\n",
       "    }\n",
       "\n",
       "    .dataframe tbody tr th {\n",
       "        vertical-align: top;\n",
       "    }\n",
       "\n",
       "    .dataframe thead th {\n",
       "        text-align: right;\n",
       "    }\n",
       "</style>\n",
       "<table border=\"1\" class=\"dataframe\">\n",
       "  <thead>\n",
       "    <tr style=\"text-align: right;\">\n",
       "      <th></th>\n",
       "      <th>estacion</th>\n",
       "      <th>año</th>\n",
       "      <th>mes</th>\n",
       "      <th>festivo</th>\n",
       "      <th>dia_sem</th>\n",
       "      <th>laborable</th>\n",
       "      <th>prevision_tiempo</th>\n",
       "      <th>sensacion_termica</th>\n",
       "      <th>humedad</th>\n",
       "      <th>velocidad_viento</th>\n",
       "    </tr>\n",
       "  </thead>\n",
       "  <tbody>\n",
       "    <tr>\n",
       "      <th>0</th>\n",
       "      <td>Verano</td>\n",
       "      <td>2019</td>\n",
       "      <td>septiembre</td>\n",
       "      <td>0</td>\n",
       "      <td>domingo</td>\n",
       "      <td>0</td>\n",
       "      <td>1</td>\n",
       "      <td>30.5244</td>\n",
       "      <td>64.6667</td>\n",
       "      <td>19.000061</td>\n",
       "    </tr>\n",
       "  </tbody>\n",
       "</table>\n",
       "</div>"
      ],
      "text/plain": [
       "  estacion   año         mes  festivo  dia_sem  laborable  prevision_tiempo  \\\n",
       "0   Verano  2019  septiembre        0  domingo          0                 1   \n",
       "\n",
       "   sensacion_termica  humedad  velocidad_viento  \n",
       "0            30.5244  64.6667         19.000061  "
      ]
     },
     "execution_count": 7,
     "metadata": {},
     "output_type": "execute_result"
    }
   ],
   "source": [
    "df_usuario_reg"
   ]
  },
  {
   "cell_type": "code",
   "execution_count": 8,
   "metadata": {},
   "outputs": [],
   "source": [
    "df_cat_reg = df_usuario_reg.select_dtypes(exclude= np.number)"
   ]
  },
  {
   "cell_type": "code",
   "execution_count": 9,
   "metadata": {},
   "outputs": [
    {
     "data": {
      "text/plain": [
       "[{'Invierno': 0, 'Otoño': 2, 'Primavera': 2.4, 'Verano': 2.2},\n",
       " {'2018': 0, '2019': 2},\n",
       " {'enero': 0,\n",
       "  'febrero': 0.5,\n",
       "  'marzo': 1,\n",
       "  'diciembre': 1.5,\n",
       "  'abril': 2,\n",
       "  'noviembre': 2,\n",
       "  'mayo': 2.2,\n",
       "  'octubre': 2.2,\n",
       "  'julio': 2.2,\n",
       "  'septiembre': 2.5,\n",
       "  'agosto': 2.5,\n",
       "  'junio': 2.7},\n",
       " {0: 1, 1: 0},\n",
       " {'miercoles': 1,\n",
       "  'jueves': 1.3,\n",
       "  'viernes': 1.3,\n",
       "  'sabado': 1,\n",
       "  'martes': 0,\n",
       "  'lunes': 0,\n",
       "  'domingo': 1},\n",
       " {0: 0, 1: 1},\n",
       " {3: 0, 2: 2, 1: 2.5}]"
      ]
     },
     "execution_count": 9,
     "metadata": {},
     "output_type": "execute_result"
    }
   ],
   "source": [
    "lst.lista_dict_reg # viene del archivo listas.py"
   ]
  },
  {
   "cell_type": "code",
   "execution_count": 10,
   "metadata": {},
   "outputs": [
    {
     "data": {
      "text/html": [
       "<div>\n",
       "<style scoped>\n",
       "    .dataframe tbody tr th:only-of-type {\n",
       "        vertical-align: middle;\n",
       "    }\n",
       "\n",
       "    .dataframe tbody tr th {\n",
       "        vertical-align: top;\n",
       "    }\n",
       "\n",
       "    .dataframe thead th {\n",
       "        text-align: right;\n",
       "    }\n",
       "</style>\n",
       "<table border=\"1\" class=\"dataframe\">\n",
       "  <thead>\n",
       "    <tr style=\"text-align: right;\">\n",
       "      <th></th>\n",
       "      <th>estacion_map</th>\n",
       "      <th>año_map</th>\n",
       "      <th>mes_map</th>\n",
       "      <th>dia_sem_map</th>\n",
       "    </tr>\n",
       "  </thead>\n",
       "  <tbody>\n",
       "    <tr>\n",
       "      <th>0</th>\n",
       "      <td>2.2</td>\n",
       "      <td>2</td>\n",
       "      <td>2.5</td>\n",
       "      <td>NaN</td>\n",
       "    </tr>\n",
       "  </tbody>\n",
       "</table>\n",
       "</div>"
      ],
      "text/plain": [
       "   estacion_map  año_map  mes_map  dia_sem_map\n",
       "0           2.2        2      2.5          NaN"
      ]
     },
     "execution_count": 10,
     "metadata": {},
     "output_type": "execute_result"
    }
   ],
   "source": [
    "df = pd.DataFrame()\n",
    "\n",
    "for dic, col in zip(lst.lista_dict_reg, df_cat_reg.columns):   \n",
    "    \n",
    "    df[f'{col}_map'] = df_cat_reg[col].map(dic)\n",
    "    \n",
    "df.head()"
   ]
  },
  {
   "cell_type": "code",
   "execution_count": 14,
   "metadata": {},
   "outputs": [],
   "source": [
    "df_usuario_reg = df_usuario_reg.reindex(columns=['sensacion_termica', 'humedad', 'velocidad_viento', 'estacion_map',\n",
    "       'año_map', 'mes_map',  'festivo_map','dia_sem_map', 'laborable_map',\n",
    "       'prevision_tiempo_map'])"
   ]
  },
  {
   "cell_type": "code",
   "execution_count": 15,
   "metadata": {},
   "outputs": [],
   "source": [
    "df_num_reg = df_usuario_reg[[\"sensacion_termica\", \"humedad\", \"velocidad_viento\"]]"
   ]
  },
  {
   "cell_type": "code",
   "execution_count": 16,
   "metadata": {},
   "outputs": [
    {
     "data": {
      "text/html": [
       "<div>\n",
       "<style scoped>\n",
       "    .dataframe tbody tr th:only-of-type {\n",
       "        vertical-align: middle;\n",
       "    }\n",
       "\n",
       "    .dataframe tbody tr th {\n",
       "        vertical-align: top;\n",
       "    }\n",
       "\n",
       "    .dataframe thead th {\n",
       "        text-align: right;\n",
       "    }\n",
       "</style>\n",
       "<table border=\"1\" class=\"dataframe\">\n",
       "  <thead>\n",
       "    <tr style=\"text-align: right;\">\n",
       "      <th></th>\n",
       "      <th>sensacion_termica</th>\n",
       "      <th>humedad</th>\n",
       "      <th>velocidad_viento</th>\n",
       "    </tr>\n",
       "  </thead>\n",
       "  <tbody>\n",
       "    <tr>\n",
       "      <th>0</th>\n",
       "      <td>30.5244</td>\n",
       "      <td>64.6667</td>\n",
       "      <td>19.000061</td>\n",
       "    </tr>\n",
       "  </tbody>\n",
       "</table>\n",
       "</div>"
      ],
      "text/plain": [
       "   sensacion_termica  humedad  velocidad_viento\n",
       "0            30.5244  64.6667         19.000061"
      ]
     },
     "execution_count": 16,
     "metadata": {},
     "output_type": "execute_result"
    }
   ],
   "source": [
    "df_num_reg"
   ]
  },
  {
   "cell_type": "code",
   "execution_count": 17,
   "metadata": {},
   "outputs": [
    {
     "data": {
      "text/plain": [
       "array([[0.45412707, 0.09651821, 1.04416759]])"
      ]
     },
     "execution_count": 17,
     "metadata": {},
     "output_type": "execute_result"
    }
   ],
   "source": [
    "robust_registrado.transform(df_num_reg)"
   ]
  },
  {
   "cell_type": "code",
   "execution_count": 18,
   "metadata": {},
   "outputs": [
    {
     "data": {
      "text/plain": [
       "array([5819.7])"
      ]
     },
     "execution_count": 18,
     "metadata": {},
     "output_type": "execute_result"
    }
   ],
   "source": [
    "dt_registrado_pred.predict(df_usuario_reg)"
   ]
  },
  {
   "cell_type": "markdown",
   "metadata": {},
   "source": [
    "Como podemos comprobar, el modelo predice 5819 bicicletas alquiladas mientras que en los datos originales el total de bicicletas de miembros registrados suman 5883. La diferencia es mínima, apenas 64 bicis. "
   ]
  },
  {
   "cell_type": "code",
   "execution_count": 19,
   "metadata": {},
   "outputs": [
    {
     "data": {
      "text/html": [
       "<div>\n",
       "<style scoped>\n",
       "    .dataframe tbody tr th:only-of-type {\n",
       "        vertical-align: middle;\n",
       "    }\n",
       "\n",
       "    .dataframe tbody tr th {\n",
       "        vertical-align: top;\n",
       "    }\n",
       "\n",
       "    .dataframe thead th {\n",
       "        text-align: right;\n",
       "    }\n",
       "</style>\n",
       "<table border=\"1\" class=\"dataframe\">\n",
       "  <thead>\n",
       "    <tr style=\"text-align: right;\">\n",
       "      <th></th>\n",
       "      <th>fecha</th>\n",
       "      <th>estacion</th>\n",
       "      <th>año</th>\n",
       "      <th>mes</th>\n",
       "      <th>festivo</th>\n",
       "      <th>dia_sem</th>\n",
       "      <th>laborable</th>\n",
       "      <th>prevision_tiempo</th>\n",
       "      <th>sensacion_termica</th>\n",
       "      <th>humedad</th>\n",
       "      <th>velocidad_viento</th>\n",
       "      <th>alquiler_casual</th>\n",
       "      <th>alquiler_registrado</th>\n",
       "      <th>total_alquileres</th>\n",
       "    </tr>\n",
       "  </thead>\n",
       "  <tbody>\n",
       "    <tr>\n",
       "      <th>629</th>\n",
       "      <td>2019-09-22</td>\n",
       "      <td>Verano</td>\n",
       "      <td>2019</td>\n",
       "      <td>septiembre</td>\n",
       "      <td>0</td>\n",
       "      <td>domingo</td>\n",
       "      <td>0</td>\n",
       "      <td>1</td>\n",
       "      <td>30.5244</td>\n",
       "      <td>64.6667</td>\n",
       "      <td>19.000061</td>\n",
       "      <td>2512</td>\n",
       "      <td>5883</td>\n",
       "      <td>8395</td>\n",
       "    </tr>\n",
       "  </tbody>\n",
       "</table>\n",
       "</div>"
      ],
      "text/plain": [
       "         fecha estacion   año         mes festivo  dia_sem laborable  \\\n",
       "629 2019-09-22   Verano  2019  septiembre       0  domingo         0   \n",
       "\n",
       "    prevision_tiempo  sensacion_termica  humedad  velocidad_viento  \\\n",
       "629                1            30.5244  64.6667         19.000061   \n",
       "\n",
       "     alquiler_casual  alquiler_registrado  total_alquileres  \n",
       "629             2512                 5883              8395  "
      ]
     },
     "execution_count": 19,
     "metadata": {},
     "output_type": "execute_result"
    }
   ],
   "source": [
    "df = pd.read_pickle(\"../data/outliers_gestion.pkl\")\n",
    "df[df[\"sensacion_termica\"] == 30.52440]"
   ]
  }
 ],
 "metadata": {
  "kernelspec": {
   "display_name": "base",
   "language": "python",
   "name": "python3"
  },
  "language_info": {
   "codemirror_mode": {
    "name": "ipython",
    "version": 3
   },
   "file_extension": ".py",
   "mimetype": "text/x-python",
   "name": "python",
   "nbconvert_exporter": "python",
   "pygments_lexer": "ipython3",
   "version": "3.11.5"
  },
  "orig_nbformat": 4
 },
 "nbformat": 4,
 "nbformat_minor": 2
}
